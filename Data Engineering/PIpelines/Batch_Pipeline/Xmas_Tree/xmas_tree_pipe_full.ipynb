{
 "cells": [
  {
   "cell_type": "code",
   "execution_count": null,
   "metadata": {},
   "outputs": [],
   "source": [
    "import pandas as pd\n",
    "import os \n",
    "from google.cloud import bigquery\n",
    "from google.cloud import storage \n",
    "\n",
    "def tree(): \n",
    "    \n",
    "    os.environ[\"GOOGLE_APPLICATION_CREDENTIALS\"]=\"*******\"\n",
    "    \n",
    "    tree = 'https://en.wikipedia.org/wiki/Rockefeller_Center_Christmas_Tree'\n",
    "    tree_wiki = pd.read_html(tree, attrs={'class': 'wikitable'})\n",
    "    print('Extracted {num} wikitables.'.format(num = len(tree_wiki)))\n",
    "    df = tree_wiki[0]\n",
    "    df['Original location'] = df['Original location'].fillna('No location provided')\n",
    "    df['Lighting ceremony/Misc'] = df['Lighting ceremony/Misc'].fillna('No information provided')\n",
    "    for column in df.columns:\n",
    "        df['Original location'] = df['Original location'].str.replace(r'\\[.*\\]', ' ')\n",
    "        df['Height'] = df['Height'].str.replace(r'\\[.*\\]', ' ')\n",
    "    df = df.drop('Lighting ceremony/Misc', axis=1)\n",
    "    df.rename(columns={'Original location': 'Original_location', 'Tree type': 'Tree_type'}, inplace=True)\n",
    "    \n",
    "    client = bigquery.Client()\n",
    "    dataset_id = '******.xmas'\n",
    "    table_id = 'xmas.tree'\n",
    "    \n",
    "    dataset_ref = client.dataset(dataset_id)\n",
    "    dataset_table_id = dataset_ref.table(table_id)\n",
    "    \n",
    "    job_config = bigquery.LoadJobConfig()\n",
    "    job_config.write_disposition='WRITE_TRUNCATE'\n",
    "    job_config.source_format = bigquery.SourceFormat.CSV\n",
    "    job_config.autodetect=True\n",
    "    job_config.ignore_unknown_values=True \n",
    "\n",
    "    job = client.load_table_from_dataframe(\n",
    "    df,\n",
    "    table_id,\n",
    "    location='US',\n",
    "    job_config=job_config)\n",
    "    \n",
    "    job.result()\n",
    "    return print('The job has loaded. Happy holidays!')\n",
    "\n",
    "tree()\n"
   ]
  }
 ],
 "metadata": {
  "kernelspec": {
   "display_name": "Python 3",
   "language": "python",
   "name": "python3"
  },
  "language_info": {
   "codemirror_mode": {
    "name": "ipython",
    "version": 3
   },
   "file_extension": ".py",
   "mimetype": "text/x-python",
   "name": "python",
   "nbconvert_exporter": "python",
   "pygments_lexer": "ipython3",
   "version": "3.7.6"
  }
 },
 "nbformat": 4,
 "nbformat_minor": 4
}
