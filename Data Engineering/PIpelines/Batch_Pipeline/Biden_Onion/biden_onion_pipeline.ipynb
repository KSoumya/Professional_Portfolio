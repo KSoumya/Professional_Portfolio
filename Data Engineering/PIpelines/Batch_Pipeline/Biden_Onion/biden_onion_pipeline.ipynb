{
 "cells": [
  {
   "cell_type": "code",
   "execution_count": 16,
   "metadata": {},
   "outputs": [
    {
     "name": "stdout",
     "output_type": "stream",
     "text": [
      "Biden Onion Headlines Table Has Loaded.\n"
     ]
    }
   ],
   "source": [
    "import pandas as pd\n",
    "from pandas.io.html import read_html\n",
    "import numpy as np\n",
    "import os\n",
    "from google.cloud import bigquery\n",
    "from google.cloud import storage \n",
    "import re\n",
    "from google.cloud.bigquery import SchemaField\n",
    "\n",
    "def get_biden_onion(): \n",
    "    os.environ[\"GOOGLE_APPLICATION_CREDENTIALS\"]=\"/Users/zachquinn/Downloads/ornate-reef-332816-a7425b762ba2.json\"\n",
    "    \n",
    "    joe = 'https://en.wikipedia.org/wiki/Joe_Biden_(The_Onion)'\n",
    "    joe_wiki = pd.read_html(joe, attrs={'class': 'wikitable'})\n",
    "    biden_onion = joe_wiki[0]\n",
    "    biden_onion = biden_onion.drop(labels=(76), axis=0)\n",
    "    for column in biden_onion.columns:\n",
    "        biden_onion[column] = biden_onion[column].str.replace(r'\\[.*\\]', ' ')\n",
    "        biden_onion['POTUS'] = biden_onion['POTUS'].str.replace(r'(first term)', '')\n",
    "        biden_onion['POTUS'] = biden_onion['POTUS'].str.replace(r\"\\(.*\\)\", '')\n",
    "        biden_onion['POTUS'] = biden_onion['POTUS'].str.replace(r'Trump transition', '')\n",
    "    biden_onion = biden_onion.drop('#', axis=1)\n",
    "    biden_onion['Date'] = pd.to_datetime(biden_onion['Date'])\n",
    "    biden_onion['POTUS'] = biden_onion['POTUS'].astype('category')\n",
    "    biden_onion['Type'] = biden_onion['Type'].astype('category')\n",
    "    biden_onion['Year'] = biden_onion['Year'].astype(int)\n",
    "    biden_onion['Headline_Length'] = biden_onion['Headline'].str.len()\n",
    "    biden_onion = pd.DataFrame(biden_onion)\n",
    "    \n",
    "    client = bigquery.Client()\n",
    "    dataset_id = 'biden_onion'\n",
    "    table_id = 'headlines'\n",
    "    \n",
    "    dataset_ref = client.dataset(dataset_id)\n",
    "    table_id = dataset_ref.table(table_id)\n",
    "    \n",
    "    schema = [\n",
    "        bigquery.SchemaField(\"POTUS\", \"STRING\", mode=\"NULLABLE\"),\n",
    "        bigquery.SchemaField(\"Year\", \"INTEGER\", mode=\"NULLABLE\"),\n",
    "        bigquery.SchemaField(\"Date\", \"TIMESTAMP\", mode=\"NULLABLE\"),\n",
    "        bigquery.SchemaField(\"Headline\", \"STRING\", mode=\"NULLABLE\"),\n",
    "        bigquery.SchemaField(\"Type\", \"STRING\", mode=\"NULLABLE\")\n",
    "    ]\n",
    "    \n",
    "    job_config = bigquery.LoadJobConfig()\n",
    "    job_config.write_disposition='WRITE_TRUNCATE'\n",
    "    job_config.schema = schema\n",
    "    job_config.source_format = bigquery.SourceFormat.CSV\n",
    "    job_config.autodetect=True\n",
    "    job_config.ignore_unknown_values=True \n",
    "\n",
    "    job = client.load_table_from_dataframe(\n",
    "    biden_onion,\n",
    "    table_id,\n",
    "    location='US',\n",
    "    job_config=job_config)\n",
    "    \n",
    "    job.result()\n",
    "    \n",
    "    return print('Biden Onion Headlines Table Has Loaded.')\n",
    "    \n",
    "get_biden_onion()"
   ]
  }
 ],
 "metadata": {
  "kernelspec": {
   "display_name": "Python 3",
   "language": "python",
   "name": "python3"
  },
  "language_info": {
   "codemirror_mode": {
    "name": "ipython",
    "version": 3
   },
   "file_extension": ".py",
   "mimetype": "text/x-python",
   "name": "python",
   "nbconvert_exporter": "python",
   "pygments_lexer": "ipython3",
   "version": "3.7.6"
  }
 },
 "nbformat": 4,
 "nbformat_minor": 4
}
